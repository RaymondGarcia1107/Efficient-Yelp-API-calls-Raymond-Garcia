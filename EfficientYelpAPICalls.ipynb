{
 "cells": [
  {
   "cell_type": "markdown",
   "id": "6f3eab1e-4ece-4d48-82dd-8e7c737aeb54",
   "metadata": {
    "tags": []
   },
   "source": [
    "# Importing Libraries"
   ]
  },
  {
   "cell_type": "code",
   "execution_count": 1,
   "id": "3e5e391d-a272-45fd-ad86-40630fda545f",
   "metadata": {},
   "outputs": [],
   "source": [
    "import pandas as pd\n",
    "from yelpapi import YelpAPI\n",
    "import os, time, math, json\n",
    "from tqdm.notebook import tqdm_notebook"
   ]
  },
  {
   "cell_type": "markdown",
   "id": "f29610fe-8bc0-4469-b631-63c4fb8f263b",
   "metadata": {},
   "source": [
    "This notebook is going to extract data from the Yelp API. Specifically the data for businesses in Miami FL that serve Cuban food. I will start by bringing in my credentials and instantiating the API"
   ]
  },
  {
   "cell_type": "markdown",
   "id": "cab4f6b7-de48-4585-b467-8833915a8ce9",
   "metadata": {},
   "source": [
    "# Api"
   ]
  },
  {
   "cell_type": "code",
   "execution_count": 2,
   "id": "ddfd871d-3cf5-42ee-8cae-a31b9d682cab",
   "metadata": {},
   "outputs": [
    {
     "data": {
      "text/plain": [
       "dict_keys(['client-id', 'api-key'])"
      ]
     },
     "execution_count": 2,
     "metadata": {},
     "output_type": "execute_result"
    }
   ],
   "source": [
    "# Opening my API creds\n",
    "with open('/Users/Ray/.secret/yelp_api.json', 'r') as f:\n",
    "    login = json.load(f)\n",
    "    \n",
    "login.keys()"
   ]
  },
  {
   "cell_type": "code",
   "execution_count": 3,
   "id": "329796bf-bf69-4447-9e2e-2691a9f24ea8",
   "metadata": {},
   "outputs": [
    {
     "data": {
      "text/plain": [
       "<yelpapi.yelpapi.YelpAPI at 0x21cac47b400>"
      ]
     },
     "execution_count": 3,
     "metadata": {},
     "output_type": "execute_result"
    }
   ],
   "source": [
    "# Instantiating the API\n",
    "yelpcall = YelpAPI(login['api-key'], timeout_s = 5.0)\n",
    "yelpcall"
   ]
  },
  {
   "cell_type": "code",
   "execution_count": 4,
   "id": "542234cd-6296-4dd7-b178-004c36153317",
   "metadata": {},
   "outputs": [],
   "source": [
    "# Setting the keywords for the API calls\n",
    "location = 'Miami, FL'\n",
    "term = 'Cuban'"
   ]
  },
  {
   "cell_type": "markdown",
   "id": "31859163-0641-49c4-b54a-8a9a2106ba57",
   "metadata": {},
   "source": [
    "# File \n",
    "Now to create a folder and a file to store the results of my api calls"
   ]
  },
  {
   "cell_type": "code",
   "execution_count": 5,
   "id": "362164b5-3df8-44f7-b939-cc8617afc2f2",
   "metadata": {},
   "outputs": [
    {
     "name": "stdout",
     "output_type": "stream",
     "text": [
      "[info] Data/previous_results.json already exists\n"
     ]
    }
   ],
   "source": [
    "# File name to use later on\n",
    "json_file = 'Data/previous_results.json'\n",
    "\n",
    "# IF statement to create the file\n",
    "file_exists = os.path.isfile(json_file)\n",
    "if file_exists == False:\n",
    "    \n",
    "    # this will create a folder for the json file IF the json file name had a folder\n",
    "    folder = os.path.dirname(json_file)\n",
    "    \n",
    "    if len(folder)>0:\n",
    "        os.makedirs(folder, exist_ok = True)\n",
    "        \n",
    "    # Print a status to the notebook    \n",
    "    print(f'[info] {json_file} not found. Saving empty list to file')\n",
    "    \n",
    "    # Saving an empty list to json_file\n",
    "    with open(json_file, \"w\") as f:\n",
    "        json.dump(obj = [], fp = f)\n",
    "\n",
    "else:\n",
    "    print(f'[info] {json_file} already exists')\n"
   ]
  },
  {
   "cell_type": "markdown",
   "id": "aae3a34b-51b9-4239-a0b7-e3086f462e58",
   "metadata": {},
   "source": [
    "# Prepping to loop\n",
    "Next step is going to be to calculate the pagination batch sizes and loop through the available data"
   ]
  },
  {
   "cell_type": "code",
   "execution_count": 6,
   "id": "e236a510-e352-44bb-9e59-ebc14098b04c",
   "metadata": {},
   "outputs": [
    {
     "name": "stdout",
     "output_type": "stream",
     "text": [
      "962 previous results were found in JSON file\n"
     ]
    }
   ],
   "source": [
    "with open(json_file, 'r') as f:\n",
    "    previous_results = json.load(f)\n",
    "    \n",
    "n_results = len(previous_results)\n",
    "print(f'{n_results} previous results were found in JSON file')"
   ]
  },
  {
   "cell_type": "code",
   "execution_count": 7,
   "id": "1a612b99-0d3d-46e1-b277-678826d3875a",
   "metadata": {},
   "outputs": [
    {
     "data": {
      "text/plain": [
       "dict_keys(['businesses', 'total', 'region'])"
      ]
     },
     "execution_count": 7,
     "metadata": {},
     "output_type": "execute_result"
    }
   ],
   "source": [
    "# running the first call to get the total results and the total per page\n",
    "results = yelpcall.search_query(location = location, term = term)\n",
    "results.keys()"
   ]
  },
  {
   "cell_type": "code",
   "execution_count": 8,
   "id": "25180e2e-7837-40c2-ba34-2a90d77f2d1c",
   "metadata": {},
   "outputs": [
    {
     "name": "stdout",
     "output_type": "stream",
     "text": [
      "962 total results\n",
      "20 total results per page\n",
      "0 loops needed\n"
     ]
    }
   ],
   "source": [
    "# Total\n",
    "total_results = results['total']\n",
    "\n",
    "# Total per page\n",
    "total_per_page = len(results['businesses'])\n",
    "\n",
    "# Number of loops needed\n",
    "n_loops = math.ceil((total_results - n_results)/total_per_page)\n",
    "\n",
    "print(f'{total_results} total results')\n",
    "print(f'{total_per_page} total results per page')\n",
    "print(f'{n_loops} loops needed')"
   ]
  },
  {
   "cell_type": "markdown",
   "id": "52a88cc9-73a1-4d82-bdac-c7b90aed794c",
   "metadata": {},
   "source": [
    "# Constructing the loop\n",
    "Now to create the loop, but first lets add the first results to the json file"
   ]
  },
  {
   "cell_type": "code",
   "execution_count": 9,
   "id": "4eabad2c-ac95-4df6-a078-b9abf325f4a1",
   "metadata": {},
   "outputs": [],
   "source": [
    "# Extending previous results\n",
    "previous_results.extend(results['businesses'])\n",
    "\n",
    "# Saving\n",
    "with open(json_file, 'w') as f:\n",
    "    json.dump(previous_results, f)"
   ]
  },
  {
   "cell_type": "code",
   "execution_count": 10,
   "id": "c5df88b8-fcf2-46ca-bd4f-3e58dee238d0",
   "metadata": {},
   "outputs": [
    {
     "data": {
      "application/vnd.jupyter.widget-view+json": {
       "model_id": "9d4c727a970248d78d48b1979a9aec87",
       "version_major": 2,
       "version_minor": 0
      },
      "text/plain": [
       "0it [00:00, ?it/s]"
      ]
     },
     "metadata": {},
     "output_type": "display_data"
    }
   ],
   "source": [
    "# Using tqdm to create a progress bar\n",
    "for i in tqdm_notebook(range(1, n_loops + 1)):\n",
    "    # Retrieving the previous results\n",
    "    with open(json_file, 'r') as f:\n",
    "        previous_results = json.load(f)\n",
    "        \n",
    "    # Calculating the length of previous results to use as an offset\n",
    "    n_results = len(previous_results)\n",
    "    \n",
    "    # API call, retrieving a JSON string\n",
    "    results = yelpcall.search_query(location = location, term = term, offset = n_results)\n",
    "    \n",
    "    # Extending previous results\n",
    "    previous_results.extend(results['businesses'])\n",
    "    \n",
    "    # Saving\n",
    "    with open(json_file, 'w') as f:\n",
    "        json.dump(obj = previous_results, fp = f)\n",
    "        \n",
    "    # 200 ms Pause\n",
    "    time.sleep(.2)\n",
    "    "
   ]
  },
  {
   "cell_type": "markdown",
   "id": "3dd24448-7141-47bb-9b81-77c41767f14a",
   "metadata": {},
   "source": [
    "# Converting to dataframe"
   ]
  },
  {
   "cell_type": "code",
   "execution_count": 11,
   "id": "7250e208-a755-459a-b042-86d9667f6af3",
   "metadata": {},
   "outputs": [
    {
     "data": {
      "text/html": [
       "<div>\n",
       "<style scoped>\n",
       "    .dataframe tbody tr th:only-of-type {\n",
       "        vertical-align: middle;\n",
       "    }\n",
       "\n",
       "    .dataframe tbody tr th {\n",
       "        vertical-align: top;\n",
       "    }\n",
       "\n",
       "    .dataframe thead th {\n",
       "        text-align: right;\n",
       "    }\n",
       "</style>\n",
       "<table border=\"1\" class=\"dataframe\">\n",
       "  <thead>\n",
       "    <tr style=\"text-align: right;\">\n",
       "      <th></th>\n",
       "      <th>id</th>\n",
       "      <th>alias</th>\n",
       "      <th>name</th>\n",
       "      <th>image_url</th>\n",
       "      <th>is_closed</th>\n",
       "      <th>url</th>\n",
       "      <th>review_count</th>\n",
       "      <th>categories</th>\n",
       "      <th>rating</th>\n",
       "      <th>coordinates</th>\n",
       "      <th>transactions</th>\n",
       "      <th>price</th>\n",
       "      <th>location</th>\n",
       "      <th>phone</th>\n",
       "      <th>display_phone</th>\n",
       "      <th>distance</th>\n",
       "    </tr>\n",
       "  </thead>\n",
       "  <tbody>\n",
       "    <tr>\n",
       "      <th>0</th>\n",
       "      <td>UXHxLN3DcDGI57uDIfCuJA</td>\n",
       "      <td>olds-havana-cuban-bar-and-cocina-miami</td>\n",
       "      <td>Old's Havana Cuban Bar &amp; Cocina</td>\n",
       "      <td>https://s3-media4.fl.yelpcdn.com/bphoto/OyMD-x...</td>\n",
       "      <td>False</td>\n",
       "      <td>https://www.yelp.com/biz/olds-havana-cuban-bar...</td>\n",
       "      <td>2161</td>\n",
       "      <td>[{'alias': 'cuban', 'title': 'Cuban'}, {'alias...</td>\n",
       "      <td>4.5</td>\n",
       "      <td>{'latitude': 25.7655942148975, 'longitude': -8...</td>\n",
       "      <td>[pickup, delivery]</td>\n",
       "      <td>$$</td>\n",
       "      <td>{'address1': '1442 SW 8th St', 'address2': '',...</td>\n",
       "      <td>+17865182196</td>\n",
       "      <td>(786) 518-2196</td>\n",
       "      <td>2093.858301</td>\n",
       "    </tr>\n",
       "    <tr>\n",
       "      <th>1</th>\n",
       "      <td>hZm7TunlrksQbgS0ssXbUg</td>\n",
       "      <td>versailles-miami-4</td>\n",
       "      <td>Versailles</td>\n",
       "      <td>https://s3-media1.fl.yelpcdn.com/bphoto/VaSpiR...</td>\n",
       "      <td>False</td>\n",
       "      <td>https://www.yelp.com/biz/versailles-miami-4?ad...</td>\n",
       "      <td>6151</td>\n",
       "      <td>[{'alias': 'cuban', 'title': 'Cuban'}, {'alias...</td>\n",
       "      <td>4.0</td>\n",
       "      <td>{'latitude': 25.765039080853928, 'longitude': ...</td>\n",
       "      <td>[]</td>\n",
       "      <td>$$</td>\n",
       "      <td>{'address1': '3555 SW 8th St', 'address2': '',...</td>\n",
       "      <td>+13054440240</td>\n",
       "      <td>(305) 444-0240</td>\n",
       "      <td>3127.739196</td>\n",
       "    </tr>\n",
       "    <tr>\n",
       "      <th>2</th>\n",
       "      <td>zGf5kkYEU01NQ04DRYVPNQ</td>\n",
       "      <td>doce-provisions-miami</td>\n",
       "      <td>Doce Provisions</td>\n",
       "      <td>https://s3-media3.fl.yelpcdn.com/bphoto/spQ-Zr...</td>\n",
       "      <td>False</td>\n",
       "      <td>https://www.yelp.com/biz/doce-provisions-miami...</td>\n",
       "      <td>929</td>\n",
       "      <td>[{'alias': 'gastropubs', 'title': 'Gastropubs'...</td>\n",
       "      <td>4.5</td>\n",
       "      <td>{'latitude': 25.767862, 'longitude': -80.214191}</td>\n",
       "      <td>[pickup, delivery]</td>\n",
       "      <td>$$</td>\n",
       "      <td>{'address1': '541 SW 12th Ave', 'address2': No...</td>\n",
       "      <td>+17864520161</td>\n",
       "      <td>(786) 452-0161</td>\n",
       "      <td>2162.106175</td>\n",
       "    </tr>\n",
       "    <tr>\n",
       "      <th>3</th>\n",
       "      <td>nTsEr_CQqsA8zwLV4kT5nA</td>\n",
       "      <td>cafe-la-trova-miami</td>\n",
       "      <td>Cafe La Trova</td>\n",
       "      <td>https://s3-media3.fl.yelpcdn.com/bphoto/CJenu6...</td>\n",
       "      <td>False</td>\n",
       "      <td>https://www.yelp.com/biz/cafe-la-trova-miami?a...</td>\n",
       "      <td>891</td>\n",
       "      <td>[{'alias': 'cocktailbars', 'title': 'Cocktail ...</td>\n",
       "      <td>4.5</td>\n",
       "      <td>{'latitude': 25.7662659, 'longitude': -80.21063}</td>\n",
       "      <td>[pickup, delivery]</td>\n",
       "      <td>$$</td>\n",
       "      <td>{'address1': '971 SW 8th St', 'address2': '', ...</td>\n",
       "      <td>+17866154379</td>\n",
       "      <td>(786) 615-4379</td>\n",
       "      <td>2534.517384</td>\n",
       "    </tr>\n",
       "    <tr>\n",
       "      <th>4</th>\n",
       "      <td>gmDna9f57vWTlSrdrEuVEg</td>\n",
       "      <td>sanguich-de-miami-miami-2</td>\n",
       "      <td>Sanguich De Miami</td>\n",
       "      <td>https://s3-media2.fl.yelpcdn.com/bphoto/PUj9xl...</td>\n",
       "      <td>False</td>\n",
       "      <td>https://www.yelp.com/biz/sanguich-de-miami-mia...</td>\n",
       "      <td>1034</td>\n",
       "      <td>[{'alias': 'cuban', 'title': 'Cuban'}, {'alias...</td>\n",
       "      <td>4.5</td>\n",
       "      <td>{'latitude': 25.7656049, 'longitude': -80.2285...</td>\n",
       "      <td>[delivery]</td>\n",
       "      <td>$$</td>\n",
       "      <td>{'address1': '2057 SW 8th St', 'address2': '',...</td>\n",
       "      <td>+13055390969</td>\n",
       "      <td>(305) 539-0969</td>\n",
       "      <td>1859.388202</td>\n",
       "    </tr>\n",
       "  </tbody>\n",
       "</table>\n",
       "</div>"
      ],
      "text/plain": [
       "                       id                                   alias  \\\n",
       "0  UXHxLN3DcDGI57uDIfCuJA  olds-havana-cuban-bar-and-cocina-miami   \n",
       "1  hZm7TunlrksQbgS0ssXbUg                      versailles-miami-4   \n",
       "2  zGf5kkYEU01NQ04DRYVPNQ                   doce-provisions-miami   \n",
       "3  nTsEr_CQqsA8zwLV4kT5nA                     cafe-la-trova-miami   \n",
       "4  gmDna9f57vWTlSrdrEuVEg               sanguich-de-miami-miami-2   \n",
       "\n",
       "                              name  \\\n",
       "0  Old's Havana Cuban Bar & Cocina   \n",
       "1                       Versailles   \n",
       "2                  Doce Provisions   \n",
       "3                    Cafe La Trova   \n",
       "4                Sanguich De Miami   \n",
       "\n",
       "                                           image_url  is_closed  \\\n",
       "0  https://s3-media4.fl.yelpcdn.com/bphoto/OyMD-x...      False   \n",
       "1  https://s3-media1.fl.yelpcdn.com/bphoto/VaSpiR...      False   \n",
       "2  https://s3-media3.fl.yelpcdn.com/bphoto/spQ-Zr...      False   \n",
       "3  https://s3-media3.fl.yelpcdn.com/bphoto/CJenu6...      False   \n",
       "4  https://s3-media2.fl.yelpcdn.com/bphoto/PUj9xl...      False   \n",
       "\n",
       "                                                 url  review_count  \\\n",
       "0  https://www.yelp.com/biz/olds-havana-cuban-bar...          2161   \n",
       "1  https://www.yelp.com/biz/versailles-miami-4?ad...          6151   \n",
       "2  https://www.yelp.com/biz/doce-provisions-miami...           929   \n",
       "3  https://www.yelp.com/biz/cafe-la-trova-miami?a...           891   \n",
       "4  https://www.yelp.com/biz/sanguich-de-miami-mia...          1034   \n",
       "\n",
       "                                          categories  rating  \\\n",
       "0  [{'alias': 'cuban', 'title': 'Cuban'}, {'alias...     4.5   \n",
       "1  [{'alias': 'cuban', 'title': 'Cuban'}, {'alias...     4.0   \n",
       "2  [{'alias': 'gastropubs', 'title': 'Gastropubs'...     4.5   \n",
       "3  [{'alias': 'cocktailbars', 'title': 'Cocktail ...     4.5   \n",
       "4  [{'alias': 'cuban', 'title': 'Cuban'}, {'alias...     4.5   \n",
       "\n",
       "                                         coordinates        transactions  \\\n",
       "0  {'latitude': 25.7655942148975, 'longitude': -8...  [pickup, delivery]   \n",
       "1  {'latitude': 25.765039080853928, 'longitude': ...                  []   \n",
       "2   {'latitude': 25.767862, 'longitude': -80.214191}  [pickup, delivery]   \n",
       "3   {'latitude': 25.7662659, 'longitude': -80.21063}  [pickup, delivery]   \n",
       "4  {'latitude': 25.7656049, 'longitude': -80.2285...          [delivery]   \n",
       "\n",
       "  price                                           location         phone  \\\n",
       "0    $$  {'address1': '1442 SW 8th St', 'address2': '',...  +17865182196   \n",
       "1    $$  {'address1': '3555 SW 8th St', 'address2': '',...  +13054440240   \n",
       "2    $$  {'address1': '541 SW 12th Ave', 'address2': No...  +17864520161   \n",
       "3    $$  {'address1': '971 SW 8th St', 'address2': '', ...  +17866154379   \n",
       "4    $$  {'address1': '2057 SW 8th St', 'address2': '',...  +13055390969   \n",
       "\n",
       "    display_phone     distance  \n",
       "0  (786) 518-2196  2093.858301  \n",
       "1  (305) 444-0240  3127.739196  \n",
       "2  (786) 452-0161  2162.106175  \n",
       "3  (786) 615-4379  2534.517384  \n",
       "4  (305) 539-0969  1859.388202  "
      ]
     },
     "execution_count": 11,
     "metadata": {},
     "output_type": "execute_result"
    }
   ],
   "source": [
    "df = pd.read_json(json_file)\n",
    "df.head()"
   ]
  },
  {
   "cell_type": "code",
   "execution_count": 12,
   "id": "eb85bdec-1410-41fa-b5d5-9310286ac887",
   "metadata": {},
   "outputs": [
    {
     "data": {
      "text/html": [
       "<div>\n",
       "<style scoped>\n",
       "    .dataframe tbody tr th:only-of-type {\n",
       "        vertical-align: middle;\n",
       "    }\n",
       "\n",
       "    .dataframe tbody tr th {\n",
       "        vertical-align: top;\n",
       "    }\n",
       "\n",
       "    .dataframe thead th {\n",
       "        text-align: right;\n",
       "    }\n",
       "</style>\n",
       "<table border=\"1\" class=\"dataframe\">\n",
       "  <thead>\n",
       "    <tr style=\"text-align: right;\">\n",
       "      <th></th>\n",
       "      <th>id</th>\n",
       "      <th>alias</th>\n",
       "      <th>name</th>\n",
       "      <th>image_url</th>\n",
       "      <th>is_closed</th>\n",
       "      <th>url</th>\n",
       "      <th>review_count</th>\n",
       "      <th>categories</th>\n",
       "      <th>rating</th>\n",
       "      <th>coordinates</th>\n",
       "      <th>transactions</th>\n",
       "      <th>price</th>\n",
       "      <th>location</th>\n",
       "      <th>phone</th>\n",
       "      <th>display_phone</th>\n",
       "      <th>distance</th>\n",
       "    </tr>\n",
       "  </thead>\n",
       "  <tbody>\n",
       "    <tr>\n",
       "      <th>977</th>\n",
       "      <td>J2vJdu0YSTIhS3Bet39lOw</td>\n",
       "      <td>ball-and-chain-miami-2</td>\n",
       "      <td>Ball &amp; Chain</td>\n",
       "      <td>https://s3-media3.fl.yelpcdn.com/bphoto/ljhxvf...</td>\n",
       "      <td>False</td>\n",
       "      <td>https://www.yelp.com/biz/ball-and-chain-miami-...</td>\n",
       "      <td>1211</td>\n",
       "      <td>[{'alias': 'musicvenues', 'title': 'Music Venu...</td>\n",
       "      <td>4.0</td>\n",
       "      <td>{'latitude': 25.765829939936697, 'longitude': ...</td>\n",
       "      <td>[delivery, pickup]</td>\n",
       "      <td>$$</td>\n",
       "      <td>{'address1': '1513 SW 8th St', 'address2': Non...</td>\n",
       "      <td>+13056437820</td>\n",
       "      <td>(305) 643-7820</td>\n",
       "      <td>2047.016043</td>\n",
       "    </tr>\n",
       "    <tr>\n",
       "      <th>978</th>\n",
       "      <td>sxEALZeo0_Y4qogJ8FeD2Q</td>\n",
       "      <td>soriano-brothers-cuban-cuisine-miami-4</td>\n",
       "      <td>Soriano Brothers Cuban Cuisine</td>\n",
       "      <td>https://s3-media1.fl.yelpcdn.com/bphoto/9CCo5c...</td>\n",
       "      <td>False</td>\n",
       "      <td>https://www.yelp.com/biz/soriano-brothers-cuba...</td>\n",
       "      <td>11</td>\n",
       "      <td>[{'alias': 'cuban', 'title': 'Cuban'}, {'alias...</td>\n",
       "      <td>4.5</td>\n",
       "      <td>{'latitude': 25.602153896868664, 'longitude': ...</td>\n",
       "      <td>[]</td>\n",
       "      <td>NaN</td>\n",
       "      <td>{'address1': '18005 S Dixie Hwy', 'address2': ...</td>\n",
       "      <td>+13054899987</td>\n",
       "      <td>(305) 489-9987</td>\n",
       "      <td>23542.960597</td>\n",
       "    </tr>\n",
       "    <tr>\n",
       "      <th>979</th>\n",
       "      <td>YpS6LPBzkk0jIFKauzc0AQ</td>\n",
       "      <td>el-palacio-de-los-jugos-miami-6</td>\n",
       "      <td>El Palacio De Los Jugos</td>\n",
       "      <td>https://s3-media2.fl.yelpcdn.com/bphoto/7AYijA...</td>\n",
       "      <td>False</td>\n",
       "      <td>https://www.yelp.com/biz/el-palacio-de-los-jug...</td>\n",
       "      <td>161</td>\n",
       "      <td>[{'alias': 'latin', 'title': 'Latin American'}...</td>\n",
       "      <td>4.0</td>\n",
       "      <td>{'latitude': 25.7950191497803, 'longitude': -8...</td>\n",
       "      <td>[delivery]</td>\n",
       "      <td>$$</td>\n",
       "      <td>{'address1': '2038 NW 27th Ave', 'address2': '...</td>\n",
       "      <td>+13056360832</td>\n",
       "      <td>(305) 636-0832</td>\n",
       "      <td>1816.324371</td>\n",
       "    </tr>\n",
       "    <tr>\n",
       "      <th>980</th>\n",
       "      <td>83bT4JrOTR6gU8693DXwaQ</td>\n",
       "      <td>marabu-restaurant-miami</td>\n",
       "      <td>Marabu Restaurant</td>\n",
       "      <td>https://s3-media3.fl.yelpcdn.com/bphoto/rfE4a5...</td>\n",
       "      <td>False</td>\n",
       "      <td>https://www.yelp.com/biz/marabu-restaurant-mia...</td>\n",
       "      <td>268</td>\n",
       "      <td>[{'alias': 'cuban', 'title': 'Cuban'}, {'alias...</td>\n",
       "      <td>4.0</td>\n",
       "      <td>{'latitude': 25.76731, 'longitude': -80.1932}</td>\n",
       "      <td>[delivery, pickup]</td>\n",
       "      <td>$$$</td>\n",
       "      <td>{'address1': '701 S Miami Ave', 'address2': 'F...</td>\n",
       "      <td>+17865988012</td>\n",
       "      <td>(786) 598-8012</td>\n",
       "      <td>3900.838115</td>\n",
       "    </tr>\n",
       "    <tr>\n",
       "      <th>981</th>\n",
       "      <td>Zu-DqCBsPeGDKNFYEZ8NAg</td>\n",
       "      <td>la-cañita-miami</td>\n",
       "      <td>La Cañita</td>\n",
       "      <td>https://s3-media2.fl.yelpcdn.com/bphoto/Hg82tM...</td>\n",
       "      <td>False</td>\n",
       "      <td>https://www.yelp.com/biz/la-ca%C3%B1ita-miami?...</td>\n",
       "      <td>173</td>\n",
       "      <td>[{'alias': 'cuban', 'title': 'Cuban'}, {'alias...</td>\n",
       "      <td>4.0</td>\n",
       "      <td>{'latitude': 25.778931, 'longitude': -80.18819...</td>\n",
       "      <td>[]</td>\n",
       "      <td>$$</td>\n",
       "      <td>{'address1': '401 Biscayne Blvd', 'address2': ...</td>\n",
       "      <td>+17864838861</td>\n",
       "      <td>(786) 483-8861</td>\n",
       "      <td>4040.781307</td>\n",
       "    </tr>\n",
       "  </tbody>\n",
       "</table>\n",
       "</div>"
      ],
      "text/plain": [
       "                         id                                   alias  \\\n",
       "977  J2vJdu0YSTIhS3Bet39lOw                  ball-and-chain-miami-2   \n",
       "978  sxEALZeo0_Y4qogJ8FeD2Q  soriano-brothers-cuban-cuisine-miami-4   \n",
       "979  YpS6LPBzkk0jIFKauzc0AQ         el-palacio-de-los-jugos-miami-6   \n",
       "980  83bT4JrOTR6gU8693DXwaQ                 marabu-restaurant-miami   \n",
       "981  Zu-DqCBsPeGDKNFYEZ8NAg                         la-cañita-miami   \n",
       "\n",
       "                               name  \\\n",
       "977                    Ball & Chain   \n",
       "978  Soriano Brothers Cuban Cuisine   \n",
       "979         El Palacio De Los Jugos   \n",
       "980               Marabu Restaurant   \n",
       "981                       La Cañita   \n",
       "\n",
       "                                             image_url  is_closed  \\\n",
       "977  https://s3-media3.fl.yelpcdn.com/bphoto/ljhxvf...      False   \n",
       "978  https://s3-media1.fl.yelpcdn.com/bphoto/9CCo5c...      False   \n",
       "979  https://s3-media2.fl.yelpcdn.com/bphoto/7AYijA...      False   \n",
       "980  https://s3-media3.fl.yelpcdn.com/bphoto/rfE4a5...      False   \n",
       "981  https://s3-media2.fl.yelpcdn.com/bphoto/Hg82tM...      False   \n",
       "\n",
       "                                                   url  review_count  \\\n",
       "977  https://www.yelp.com/biz/ball-and-chain-miami-...          1211   \n",
       "978  https://www.yelp.com/biz/soriano-brothers-cuba...            11   \n",
       "979  https://www.yelp.com/biz/el-palacio-de-los-jug...           161   \n",
       "980  https://www.yelp.com/biz/marabu-restaurant-mia...           268   \n",
       "981  https://www.yelp.com/biz/la-ca%C3%B1ita-miami?...           173   \n",
       "\n",
       "                                            categories  rating  \\\n",
       "977  [{'alias': 'musicvenues', 'title': 'Music Venu...     4.0   \n",
       "978  [{'alias': 'cuban', 'title': 'Cuban'}, {'alias...     4.5   \n",
       "979  [{'alias': 'latin', 'title': 'Latin American'}...     4.0   \n",
       "980  [{'alias': 'cuban', 'title': 'Cuban'}, {'alias...     4.0   \n",
       "981  [{'alias': 'cuban', 'title': 'Cuban'}, {'alias...     4.0   \n",
       "\n",
       "                                           coordinates        transactions  \\\n",
       "977  {'latitude': 25.765829939936697, 'longitude': ...  [delivery, pickup]   \n",
       "978  {'latitude': 25.602153896868664, 'longitude': ...                  []   \n",
       "979  {'latitude': 25.7950191497803, 'longitude': -8...          [delivery]   \n",
       "980      {'latitude': 25.76731, 'longitude': -80.1932}  [delivery, pickup]   \n",
       "981  {'latitude': 25.778931, 'longitude': -80.18819...                  []   \n",
       "\n",
       "    price                                           location         phone  \\\n",
       "977    $$  {'address1': '1513 SW 8th St', 'address2': Non...  +13056437820   \n",
       "978   NaN  {'address1': '18005 S Dixie Hwy', 'address2': ...  +13054899987   \n",
       "979    $$  {'address1': '2038 NW 27th Ave', 'address2': '...  +13056360832   \n",
       "980   $$$  {'address1': '701 S Miami Ave', 'address2': 'F...  +17865988012   \n",
       "981    $$  {'address1': '401 Biscayne Blvd', 'address2': ...  +17864838861   \n",
       "\n",
       "      display_phone      distance  \n",
       "977  (305) 643-7820   2047.016043  \n",
       "978  (305) 489-9987  23542.960597  \n",
       "979  (305) 636-0832   1816.324371  \n",
       "980  (786) 598-8012   3900.838115  \n",
       "981  (786) 483-8861   4040.781307  "
      ]
     },
     "execution_count": 12,
     "metadata": {},
     "output_type": "execute_result"
    }
   ],
   "source": [
    "df.tail()"
   ]
  },
  {
   "cell_type": "code",
   "execution_count": 13,
   "id": "6d8a442d-f2d9-45f6-9438-7c6c77e9fc76",
   "metadata": {},
   "outputs": [
    {
     "name": "stdout",
     "output_type": "stream",
     "text": [
      "<class 'pandas.core.frame.DataFrame'>\n",
      "RangeIndex: 982 entries, 0 to 981\n",
      "Data columns (total 16 columns):\n",
      " #   Column         Non-Null Count  Dtype  \n",
      "---  ------         --------------  -----  \n",
      " 0   id             982 non-null    object \n",
      " 1   alias          982 non-null    object \n",
      " 2   name           982 non-null    object \n",
      " 3   image_url      982 non-null    object \n",
      " 4   is_closed      982 non-null    bool   \n",
      " 5   url            982 non-null    object \n",
      " 6   review_count   982 non-null    int64  \n",
      " 7   categories     982 non-null    object \n",
      " 8   rating         982 non-null    float64\n",
      " 9   coordinates    982 non-null    object \n",
      " 10  transactions   982 non-null    object \n",
      " 11  price          728 non-null    object \n",
      " 12  location       982 non-null    object \n",
      " 13  phone          982 non-null    object \n",
      " 14  display_phone  982 non-null    object \n",
      " 15  distance       982 non-null    float64\n",
      "dtypes: bool(1), float64(2), int64(1), object(12)\n",
      "memory usage: 116.2+ KB\n"
     ]
    }
   ],
   "source": [
    "df.info()"
   ]
  }
 ],
 "metadata": {
  "kernelspec": {
   "display_name": "Python (dojo-env)",
   "language": "python",
   "name": "dojo-env"
  },
  "language_info": {
   "codemirror_mode": {
    "name": "ipython",
    "version": 3
   },
   "file_extension": ".py",
   "mimetype": "text/x-python",
   "name": "python",
   "nbconvert_exporter": "python",
   "pygments_lexer": "ipython3",
   "version": "3.9.15"
  }
 },
 "nbformat": 4,
 "nbformat_minor": 5
}
