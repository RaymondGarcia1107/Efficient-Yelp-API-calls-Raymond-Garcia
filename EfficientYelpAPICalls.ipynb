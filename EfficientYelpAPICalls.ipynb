{
 "cells": [
  {
   "cell_type": "markdown",
   "id": "6f3eab1e-4ece-4d48-82dd-8e7c737aeb54",
   "metadata": {
    "tags": []
   },
   "source": [
    "# Importing Libraries"
   ]
  },
  {
   "cell_type": "code",
   "execution_count": 1,
   "id": "3e5e391d-a272-45fd-ad86-40630fda545f",
   "metadata": {},
   "outputs": [],
   "source": [
    "import pandas as pd\n",
    "from yelpapi import YelpAPI\n",
    "import os, time, math, json\n",
    "from tqdm.notebook import tqdm_notebook"
   ]
  },
  {
   "cell_type": "markdown",
   "id": "f29610fe-8bc0-4469-b631-63c4fb8f263b",
   "metadata": {},
   "source": [
    "This notebook is going to extract data from the Yelp API. Specifically the data for businesses in Miami FL that serve Cuban food. I will start by bringing in my credentials and instantiating the API"
   ]
  },
  {
   "cell_type": "markdown",
   "id": "cab4f6b7-de48-4585-b467-8833915a8ce9",
   "metadata": {},
   "source": [
    "# Api"
   ]
  },
  {
   "cell_type": "code",
   "execution_count": 2,
   "id": "ddfd871d-3cf5-42ee-8cae-a31b9d682cab",
   "metadata": {},
   "outputs": [
    {
     "data": {
      "text/plain": [
       "dict_keys(['client-id', 'api-key'])"
      ]
     },
     "execution_count": 2,
     "metadata": {},
     "output_type": "execute_result"
    }
   ],
   "source": [
    "# Opening my API creds\n",
    "with open('/Users/Ray/.secret/yelp_api.json', 'r') as f:\n",
    "    login = json.load(f)\n",
    "    \n",
    "login.keys()"
   ]
  },
  {
   "cell_type": "code",
   "execution_count": 3,
   "id": "329796bf-bf69-4447-9e2e-2691a9f24ea8",
   "metadata": {},
   "outputs": [
    {
     "data": {
      "text/plain": [
       "<yelpapi.yelpapi.YelpAPI at 0x2907a8a6f10>"
      ]
     },
     "execution_count": 3,
     "metadata": {},
     "output_type": "execute_result"
    }
   ],
   "source": [
    "# Instantiating the API\n",
    "yelpcall = YelpAPI(login['api-key'], timeout_s = 5.0)\n",
    "yelpcall"
   ]
  },
  {
   "cell_type": "code",
   "execution_count": 4,
   "id": "542234cd-6296-4dd7-b178-004c36153317",
   "metadata": {},
   "outputs": [],
   "source": [
    "# Setting the keywords for the API calls\n",
    "location = 'Miami, FL'\n",
    "term = 'Cuban'"
   ]
  },
  {
   "cell_type": "markdown",
   "id": "31859163-0641-49c4-b54a-8a9a2106ba57",
   "metadata": {},
   "source": [
    "# File \n",
    "Now to create a folder and a file to store the results of my api calls"
   ]
  },
  {
   "cell_type": "code",
   "execution_count": 5,
   "id": "362164b5-3df8-44f7-b939-cc8617afc2f2",
   "metadata": {},
   "outputs": [
    {
     "name": "stdout",
     "output_type": "stream",
     "text": [
      "[info] Data/previous_results.json not found. Saving empty list to file\n"
     ]
    }
   ],
   "source": [
    "# File name to use later on\n",
    "json_file = 'Data/previous_results.json'\n",
    "\n",
    "# IF statement to create the file\n",
    "file_exists = os.path.isfile(json_file)\n",
    "if file_exists == False:\n",
    "    \n",
    "    # this will create a folder for the json file IF the json file name had a folder\n",
    "    folder = os.path.dirname(json_file)\n",
    "    \n",
    "    if len(folder)>0:\n",
    "        os.makedirs(folder, exist_ok = True)\n",
    "        \n",
    "    # Print a status to the notebook    \n",
    "    print(f'[info] {json_file} not found. Saving empty list to file')\n",
    "    \n",
    "    # Saving an empty list to json_file\n",
    "    with open(json_file, \"w\") as f:\n",
    "        json.dump(obj = [], fp = f)\n",
    "\n",
    "else:\n",
    "    print(f'[info] {json_file} already exists')\n"
   ]
  },
  {
   "cell_type": "markdown",
   "id": "aae3a34b-51b9-4239-a0b7-e3086f462e58",
   "metadata": {},
   "source": [
    "# Prepping to loop\n",
    "Next step is going to be to calculate the pagination batch sizes and loop through the available data"
   ]
  },
  {
   "cell_type": "code",
   "execution_count": 6,
   "id": "e236a510-e352-44bb-9e59-ebc14098b04c",
   "metadata": {},
   "outputs": [
    {
     "name": "stdout",
     "output_type": "stream",
     "text": [
      "0 previous results were found in JSON file\n"
     ]
    }
   ],
   "source": [
    "with open(json_file, 'r') as f:\n",
    "    previous_results = json.load(f)\n",
    "    \n",
    "n_results = len(previous_results)\n",
    "print(f'{n_results} previous results were found in JSON file')"
   ]
  },
  {
   "cell_type": "code",
   "execution_count": 7,
   "id": "1a612b99-0d3d-46e1-b277-678826d3875a",
   "metadata": {},
   "outputs": [
    {
     "data": {
      "text/plain": [
       "dict_keys(['businesses', 'total', 'region'])"
      ]
     },
     "execution_count": 7,
     "metadata": {},
     "output_type": "execute_result"
    }
   ],
   "source": [
    "# running the first call to get the total results and the total per page\n",
    "results = yelpcall.search_query(location = location, term = term)\n",
    "results.keys()"
   ]
  },
  {
   "cell_type": "code",
   "execution_count": 8,
   "id": "25180e2e-7837-40c2-ba34-2a90d77f2d1c",
   "metadata": {},
   "outputs": [
    {
     "name": "stdout",
     "output_type": "stream",
     "text": [
      "962 total results\n",
      "20 total results per page\n",
      "49 loops needed\n"
     ]
    }
   ],
   "source": [
    "# Total\n",
    "total_results = results['total']\n",
    "\n",
    "# Total per page\n",
    "total_per_page = len(results['businesses'])\n",
    "\n",
    "# Number of loops needed\n",
    "n_loops = math.ceil((total_results - n_results)/total_per_page)\n",
    "\n",
    "print(f'{total_results} total results')\n",
    "print(f'{total_per_page} total results per page')\n",
    "print(f'{n_loops} loops needed')"
   ]
  },
  {
   "cell_type": "markdown",
   "id": "52a88cc9-73a1-4d82-bdac-c7b90aed794c",
   "metadata": {},
   "source": [
    "# Constructing the loop\n",
    "Now to create the loop, but first lets add the first results to the json file"
   ]
  },
  {
   "cell_type": "code",
   "execution_count": 9,
   "id": "4eabad2c-ac95-4df6-a078-b9abf325f4a1",
   "metadata": {},
   "outputs": [],
   "source": [
    "# Extending previous results\n",
    "previous_results.extend(results['businesses'])\n",
    "\n",
    "# Saving\n",
    "with open(json_file, 'w') as f:\n",
    "    json.dump(previous_results, f)"
   ]
  },
  {
   "cell_type": "code",
   "execution_count": 11,
   "id": "c5df88b8-fcf2-46ca-bd4f-3e58dee238d0",
   "metadata": {},
   "outputs": [
    {
     "data": {
      "application/vnd.jupyter.widget-view+json": {
       "model_id": "a9d3997d1dee4469bf5ae390bbf43ae2",
       "version_major": 2,
       "version_minor": 0
      },
      "text/plain": [
       "  0%|          | 0/49 [00:00<?, ?it/s]"
      ]
     },
     "metadata": {},
     "output_type": "display_data"
    }
   ],
   "source": [
    "# Using tqdm to create a progress bar\n",
    "for i in tqdm_notebook(range(1, n_loops + 1)):\n",
    "    # Retrieving the previous results\n",
    "    with open(json_file, 'r') as f:\n",
    "        previous_results = json.load(f)\n",
    "        \n",
    "    # Calculating the length of previous results to use as an offset\n",
    "    n_results = len(previous_results)\n",
    "    \n",
    "    # API call, retrieving a JSON string\n",
    "    results = yelpcall.search_query(location = location, term = term, offset = n_results)\n",
    "    \n",
    "    # Extending previous results\n",
    "    previous_results.extend(results['businesses'])\n",
    "    \n",
    "    # Saving\n",
    "    with open(json_file, 'w') as f:\n",
    "        json.dump(obj = previous_results, fp = f)\n",
    "        \n",
    "    # 200 ms Pause\n",
    "    time.sleep(.2)\n",
    "    "
   ]
  },
  {
   "cell_type": "markdown",
   "id": "3dd24448-7141-47bb-9b81-77c41767f14a",
   "metadata": {},
   "source": [
    "# Converting to dataframe"
   ]
  },
  {
   "cell_type": "code",
   "execution_count": 12,
   "id": "7250e208-a755-459a-b042-86d9667f6af3",
   "metadata": {},
   "outputs": [
    {
     "data": {
      "text/html": [
       "<div>\n",
       "<style scoped>\n",
       "    .dataframe tbody tr th:only-of-type {\n",
       "        vertical-align: middle;\n",
       "    }\n",
       "\n",
       "    .dataframe tbody tr th {\n",
       "        vertical-align: top;\n",
       "    }\n",
       "\n",
       "    .dataframe thead th {\n",
       "        text-align: right;\n",
       "    }\n",
       "</style>\n",
       "<table border=\"1\" class=\"dataframe\">\n",
       "  <thead>\n",
       "    <tr style=\"text-align: right;\">\n",
       "      <th></th>\n",
       "      <th>id</th>\n",
       "      <th>alias</th>\n",
       "      <th>name</th>\n",
       "      <th>image_url</th>\n",
       "      <th>is_closed</th>\n",
       "      <th>url</th>\n",
       "      <th>review_count</th>\n",
       "      <th>categories</th>\n",
       "      <th>rating</th>\n",
       "      <th>coordinates</th>\n",
       "      <th>transactions</th>\n",
       "      <th>price</th>\n",
       "      <th>location</th>\n",
       "      <th>phone</th>\n",
       "      <th>display_phone</th>\n",
       "      <th>distance</th>\n",
       "    </tr>\n",
       "  </thead>\n",
       "  <tbody>\n",
       "    <tr>\n",
       "      <th>0</th>\n",
       "      <td>UXHxLN3DcDGI57uDIfCuJA</td>\n",
       "      <td>olds-havana-cuban-bar-and-cocina-miami</td>\n",
       "      <td>Old's Havana Cuban Bar &amp; Cocina</td>\n",
       "      <td>https://s3-media4.fl.yelpcdn.com/bphoto/OyMD-x...</td>\n",
       "      <td>False</td>\n",
       "      <td>https://www.yelp.com/biz/olds-havana-cuban-bar...</td>\n",
       "      <td>2161</td>\n",
       "      <td>[{'alias': 'cuban', 'title': 'Cuban'}, {'alias...</td>\n",
       "      <td>4.5</td>\n",
       "      <td>{'latitude': 25.7655942148975, 'longitude': -8...</td>\n",
       "      <td>[pickup, delivery]</td>\n",
       "      <td>$$</td>\n",
       "      <td>{'address1': '1442 SW 8th St', 'address2': '',...</td>\n",
       "      <td>+17865182196</td>\n",
       "      <td>(786) 518-2196</td>\n",
       "      <td>2093.858301</td>\n",
       "    </tr>\n",
       "    <tr>\n",
       "      <th>1</th>\n",
       "      <td>hZm7TunlrksQbgS0ssXbUg</td>\n",
       "      <td>versailles-miami-4</td>\n",
       "      <td>Versailles</td>\n",
       "      <td>https://s3-media1.fl.yelpcdn.com/bphoto/VaSpiR...</td>\n",
       "      <td>False</td>\n",
       "      <td>https://www.yelp.com/biz/versailles-miami-4?ad...</td>\n",
       "      <td>6151</td>\n",
       "      <td>[{'alias': 'cuban', 'title': 'Cuban'}, {'alias...</td>\n",
       "      <td>4.0</td>\n",
       "      <td>{'latitude': 25.765039080853928, 'longitude': ...</td>\n",
       "      <td>[]</td>\n",
       "      <td>$$</td>\n",
       "      <td>{'address1': '3555 SW 8th St', 'address2': '',...</td>\n",
       "      <td>+13054440240</td>\n",
       "      <td>(305) 444-0240</td>\n",
       "      <td>3127.739196</td>\n",
       "    </tr>\n",
       "    <tr>\n",
       "      <th>2</th>\n",
       "      <td>zGf5kkYEU01NQ04DRYVPNQ</td>\n",
       "      <td>doce-provisions-miami</td>\n",
       "      <td>Doce Provisions</td>\n",
       "      <td>https://s3-media3.fl.yelpcdn.com/bphoto/spQ-Zr...</td>\n",
       "      <td>False</td>\n",
       "      <td>https://www.yelp.com/biz/doce-provisions-miami...</td>\n",
       "      <td>929</td>\n",
       "      <td>[{'alias': 'gastropubs', 'title': 'Gastropubs'...</td>\n",
       "      <td>4.5</td>\n",
       "      <td>{'latitude': 25.767862, 'longitude': -80.214191}</td>\n",
       "      <td>[pickup, delivery]</td>\n",
       "      <td>$$</td>\n",
       "      <td>{'address1': '541 SW 12th Ave', 'address2': No...</td>\n",
       "      <td>+17864520161</td>\n",
       "      <td>(786) 452-0161</td>\n",
       "      <td>2162.106175</td>\n",
       "    </tr>\n",
       "    <tr>\n",
       "      <th>3</th>\n",
       "      <td>nTsEr_CQqsA8zwLV4kT5nA</td>\n",
       "      <td>cafe-la-trova-miami</td>\n",
       "      <td>Cafe La Trova</td>\n",
       "      <td>https://s3-media3.fl.yelpcdn.com/bphoto/CJenu6...</td>\n",
       "      <td>False</td>\n",
       "      <td>https://www.yelp.com/biz/cafe-la-trova-miami?a...</td>\n",
       "      <td>891</td>\n",
       "      <td>[{'alias': 'cocktailbars', 'title': 'Cocktail ...</td>\n",
       "      <td>4.5</td>\n",
       "      <td>{'latitude': 25.7662659, 'longitude': -80.21063}</td>\n",
       "      <td>[pickup, delivery]</td>\n",
       "      <td>$$</td>\n",
       "      <td>{'address1': '971 SW 8th St', 'address2': '', ...</td>\n",
       "      <td>+17866154379</td>\n",
       "      <td>(786) 615-4379</td>\n",
       "      <td>2534.517384</td>\n",
       "    </tr>\n",
       "    <tr>\n",
       "      <th>4</th>\n",
       "      <td>gmDna9f57vWTlSrdrEuVEg</td>\n",
       "      <td>sanguich-de-miami-miami-2</td>\n",
       "      <td>Sanguich De Miami</td>\n",
       "      <td>https://s3-media2.fl.yelpcdn.com/bphoto/PUj9xl...</td>\n",
       "      <td>False</td>\n",
       "      <td>https://www.yelp.com/biz/sanguich-de-miami-mia...</td>\n",
       "      <td>1034</td>\n",
       "      <td>[{'alias': 'cuban', 'title': 'Cuban'}, {'alias...</td>\n",
       "      <td>4.5</td>\n",
       "      <td>{'latitude': 25.7656049, 'longitude': -80.2285...</td>\n",
       "      <td>[delivery]</td>\n",
       "      <td>$$</td>\n",
       "      <td>{'address1': '2057 SW 8th St', 'address2': '',...</td>\n",
       "      <td>+13055390969</td>\n",
       "      <td>(305) 539-0969</td>\n",
       "      <td>1859.388202</td>\n",
       "    </tr>\n",
       "  </tbody>\n",
       "</table>\n",
       "</div>"
      ],
      "text/plain": [
       "                       id                                   alias  \\\n",
       "0  UXHxLN3DcDGI57uDIfCuJA  olds-havana-cuban-bar-and-cocina-miami   \n",
       "1  hZm7TunlrksQbgS0ssXbUg                      versailles-miami-4   \n",
       "2  zGf5kkYEU01NQ04DRYVPNQ                   doce-provisions-miami   \n",
       "3  nTsEr_CQqsA8zwLV4kT5nA                     cafe-la-trova-miami   \n",
       "4  gmDna9f57vWTlSrdrEuVEg               sanguich-de-miami-miami-2   \n",
       "\n",
       "                              name  \\\n",
       "0  Old's Havana Cuban Bar & Cocina   \n",
       "1                       Versailles   \n",
       "2                  Doce Provisions   \n",
       "3                    Cafe La Trova   \n",
       "4                Sanguich De Miami   \n",
       "\n",
       "                                           image_url  is_closed  \\\n",
       "0  https://s3-media4.fl.yelpcdn.com/bphoto/OyMD-x...      False   \n",
       "1  https://s3-media1.fl.yelpcdn.com/bphoto/VaSpiR...      False   \n",
       "2  https://s3-media3.fl.yelpcdn.com/bphoto/spQ-Zr...      False   \n",
       "3  https://s3-media3.fl.yelpcdn.com/bphoto/CJenu6...      False   \n",
       "4  https://s3-media2.fl.yelpcdn.com/bphoto/PUj9xl...      False   \n",
       "\n",
       "                                                 url  review_count  \\\n",
       "0  https://www.yelp.com/biz/olds-havana-cuban-bar...          2161   \n",
       "1  https://www.yelp.com/biz/versailles-miami-4?ad...          6151   \n",
       "2  https://www.yelp.com/biz/doce-provisions-miami...           929   \n",
       "3  https://www.yelp.com/biz/cafe-la-trova-miami?a...           891   \n",
       "4  https://www.yelp.com/biz/sanguich-de-miami-mia...          1034   \n",
       "\n",
       "                                          categories  rating  \\\n",
       "0  [{'alias': 'cuban', 'title': 'Cuban'}, {'alias...     4.5   \n",
       "1  [{'alias': 'cuban', 'title': 'Cuban'}, {'alias...     4.0   \n",
       "2  [{'alias': 'gastropubs', 'title': 'Gastropubs'...     4.5   \n",
       "3  [{'alias': 'cocktailbars', 'title': 'Cocktail ...     4.5   \n",
       "4  [{'alias': 'cuban', 'title': 'Cuban'}, {'alias...     4.5   \n",
       "\n",
       "                                         coordinates        transactions  \\\n",
       "0  {'latitude': 25.7655942148975, 'longitude': -8...  [pickup, delivery]   \n",
       "1  {'latitude': 25.765039080853928, 'longitude': ...                  []   \n",
       "2   {'latitude': 25.767862, 'longitude': -80.214191}  [pickup, delivery]   \n",
       "3   {'latitude': 25.7662659, 'longitude': -80.21063}  [pickup, delivery]   \n",
       "4  {'latitude': 25.7656049, 'longitude': -80.2285...          [delivery]   \n",
       "\n",
       "  price                                           location         phone  \\\n",
       "0    $$  {'address1': '1442 SW 8th St', 'address2': '',...  +17865182196   \n",
       "1    $$  {'address1': '3555 SW 8th St', 'address2': '',...  +13054440240   \n",
       "2    $$  {'address1': '541 SW 12th Ave', 'address2': No...  +17864520161   \n",
       "3    $$  {'address1': '971 SW 8th St', 'address2': '', ...  +17866154379   \n",
       "4    $$  {'address1': '2057 SW 8th St', 'address2': '',...  +13055390969   \n",
       "\n",
       "    display_phone     distance  \n",
       "0  (786) 518-2196  2093.858301  \n",
       "1  (305) 444-0240  3127.739196  \n",
       "2  (786) 452-0161  2162.106175  \n",
       "3  (786) 615-4379  2534.517384  \n",
       "4  (305) 539-0969  1859.388202  "
      ]
     },
     "execution_count": 12,
     "metadata": {},
     "output_type": "execute_result"
    }
   ],
   "source": [
    "df = pd.read_json(json_file)\n",
    "df.head()"
   ]
  },
  {
   "cell_type": "code",
   "execution_count": null,
   "id": "eb85bdec-1410-41fa-b5d5-9310286ac887",
   "metadata": {},
   "outputs": [],
   "source": []
  }
 ],
 "metadata": {
  "kernelspec": {
   "display_name": "Python (dojo-env)",
   "language": "python",
   "name": "dojo-env"
  },
  "language_info": {
   "codemirror_mode": {
    "name": "ipython",
    "version": 3
   },
   "file_extension": ".py",
   "mimetype": "text/x-python",
   "name": "python",
   "nbconvert_exporter": "python",
   "pygments_lexer": "ipython3",
   "version": "3.9.15"
  }
 },
 "nbformat": 4,
 "nbformat_minor": 5
}
